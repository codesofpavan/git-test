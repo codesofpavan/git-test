{
 "cells": [
  {
   "cell_type": "code",
   "execution_count": 1,
   "metadata": {},
   "outputs": [],
   "source": [
    "import pandas as pd\n",
    "import numpy as np"
   ]
  },
  {
   "cell_type": "code",
   "execution_count": 3,
   "metadata": {},
   "outputs": [
    {
     "name": "stdout",
     "output_type": "stream",
     "text": [
      "(1, 2)\n",
      "(2, 3)\n",
      "(3, 4)\n"
     ]
    }
   ],
   "source": [
    "def closestNumbers(numbers):\n",
    "    # Sort the numbers to make it easier to find pairs with the smallest differences\n",
    "    numbers.sort()\n",
    "\n",
    "    # Initialize the minimum difference to a large number\n",
    "    min_diff = float('inf')\n",
    "\n",
    "    # List to store pairs with the minimum difference\n",
    "    pairs = []\n",
    "\n",
    "    # Find the minimum difference\n",
    "    for i in range(len(numbers) - 1):\n",
    "        diff = abs(numbers[i + 1] - numbers[i])\n",
    "        if diff < min_diff:\n",
    "            min_diff = diff\n",
    "            pairs = [(numbers[i], numbers[i + 1])]\n",
    "        elif diff == min_diff:\n",
    "            pairs.append((numbers[i], numbers[i + 1]))\n",
    "\n",
    "    # Print the pairs\n",
    "    for pair in pairs:\n",
    "        print(pair)\n",
    "\n",
    "# Example usage\n",
    "numbers = [4,2,1,3]\n",
    "closestNumbers(numbers)"
   ]
  },
  {
   "cell_type": "code",
   "execution_count": 4,
   "metadata": {},
   "outputs": [
    {
     "name": "stdout",
     "output_type": "stream",
     "text": [
      "[(1, 2), (2, 3), (3, 4)]\n"
     ]
    }
   ],
   "source": [
    "def closestNumbers(numbers):\n",
    "    # Sort the numbers to make it easier to find pairs with the smallest differences\n",
    "    numbers.sort()\n",
    "\n",
    "    # Dictionary to store pairs with their differences\n",
    "    diff_dict = {}\n",
    "\n",
    "    # Find the differences and store pairs in the dictionary\n",
    "    for i in range(len(numbers) - 1):\n",
    "        diff = numbers[i + 1] - numbers[i]\n",
    "        if diff not in diff_dict:\n",
    "            diff_dict[diff] = [(numbers[i], numbers[i + 1])]\n",
    "        else:\n",
    "            diff_dict[diff].append((numbers[i], numbers[i + 1]))\n",
    "\n",
    "    # Find the minimum difference\n",
    "    min_diff = min(diff_dict.keys())\n",
    "\n",
    "    # Return the pairs with the minimum difference\n",
    "    return diff_dict[min_diff]\n",
    "\n",
    "# Example usage\n",
    "numbers = [4, 2, 1, 3]\n",
    "print(closestNumbers(numbers))"
   ]
  },
  {
   "cell_type": "code",
   "execution_count": 7,
   "metadata": {},
   "outputs": [
    {
     "name": "stdout",
     "output_type": "stream",
     "text": [
      "0\n"
     ]
    }
   ],
   "source": [
    "def max_positive_prefix_sums(arr):\n",
    "    # Step 1: Sort the array in descending order\n",
    "    arr.sort(reverse=True)\n",
    "    \n",
    "    # Step 2: Initialize variables for prefix sum and count of positive prefix sums\n",
    "    prefix_sum = 0\n",
    "    positive_count = 0\n",
    "    \n",
    "    # Step 3: Compute prefix sums and count positive ones\n",
    "    for num in arr:\n",
    "        prefix_sum += num\n",
    "        if prefix_sum > 0:\n",
    "            positive_count += 1\n",
    "        else:\n",
    "            break  # No need to continue as further sums will be non-positive\n",
    "    \n",
    "    return positive_count\n",
    "\n",
    "# Example usage\n",
    "arr = [-3,0,-2]\n",
    "print(max_positive_prefix_sums(arr))  # Output should be 3"
   ]
  },
  {
   "cell_type": "code",
   "execution_count": 4,
   "metadata": {},
   "outputs": [],
   "source": [
    "import pandas as pd\n",
    "ambassdors=pd.Series([\n",
    "    'France',\n",
    "    'UK',\n",
    "    'UK',\n",
    "    'Italy',\n",
    "    'Germany',\n",
    "    'Germany',\n",
    "    'Germany'\n",
    "],index=[\n",
    "    'Gerard Araud',\n",
    "    'Kim Darroch',\n",
    "    'Peter Westmacott',\n",
    "    'Armando Varricchio',\n",
    "    'Peter Witting',\n",
    "    'Peter Ammon',\n",
    "    'Klaus Scharioth'\n",
    "])"
   ]
  },
  {
   "cell_type": "code",
   "execution_count": 5,
   "metadata": {},
   "outputs": [
    {
     "data": {
      "text/plain": [
       "Gerard Araud           France\n",
       "Kim Darroch                UK\n",
       "Peter Westmacott           UK\n",
       "Armando Varricchio      Italy\n",
       "Peter Witting         Germany\n",
       "Peter Ammon           Germany\n",
       "Klaus Scharioth       Germany\n",
       "dtype: object"
      ]
     },
     "execution_count": 5,
     "metadata": {},
     "output_type": "execute_result"
    }
   ],
   "source": [
    "ambassdors"
   ]
  },
  {
   "cell_type": "code",
   "execution_count": 6,
   "metadata": {},
   "outputs": [
    {
     "data": {
      "text/plain": [
       "Gerard Araud          False\n",
       "Kim Darroch           False\n",
       "Peter Westmacott       True\n",
       "Armando Varricchio    False\n",
       "Peter Witting         False\n",
       "Peter Ammon            True\n",
       "Klaus Scharioth        True\n",
       "dtype: bool"
      ]
     },
     "execution_count": 6,
     "metadata": {},
     "output_type": "execute_result"
    }
   ],
   "source": [
    "ambassdors.duplicated()"
   ]
  },
  {
   "cell_type": "code",
   "execution_count": 7,
   "metadata": {},
   "outputs": [
    {
     "data": {
      "text/plain": [
       "Gerard Araud          False\n",
       "Kim Darroch            True\n",
       "Peter Westmacott      False\n",
       "Armando Varricchio    False\n",
       "Peter Witting          True\n",
       "Peter Ammon            True\n",
       "Klaus Scharioth       False\n",
       "dtype: bool"
      ]
     },
     "execution_count": 7,
     "metadata": {},
     "output_type": "execute_result"
    }
   ],
   "source": [
    "ambassdors.duplicated(keep='last')"
   ]
  },
  {
   "cell_type": "code",
   "execution_count": 8,
   "metadata": {},
   "outputs": [],
   "source": [
    "import sqlite3"
   ]
  },
  {
   "cell_type": "code",
   "execution_count": 9,
   "metadata": {},
   "outputs": [],
   "source": [
    "import numpy as np"
   ]
  },
  {
   "cell_type": "code",
   "execution_count": 10,
   "metadata": {},
   "outputs": [],
   "source": [
    "list = [0,1,2,3,4,5,6,7,8]"
   ]
  },
  {
   "cell_type": "code",
   "execution_count": 11,
   "metadata": {},
   "outputs": [],
   "source": [
    "array = np.array(list)"
   ]
  },
  {
   "cell_type": "code",
   "execution_count": 12,
   "metadata": {},
   "outputs": [
    {
     "data": {
      "text/plain": [
       "array([0, 1, 2, 3, 4, 5, 6, 7, 8])"
      ]
     },
     "execution_count": 12,
     "metadata": {},
     "output_type": "execute_result"
    }
   ],
   "source": [
    "array"
   ]
  },
  {
   "cell_type": "code",
   "execution_count": 13,
   "metadata": {},
   "outputs": [],
   "source": [
    "matrix = array.reshape((3,3))"
   ]
  },
  {
   "cell_type": "code",
   "execution_count": 14,
   "metadata": {},
   "outputs": [
    {
     "data": {
      "text/plain": [
       "array([[0, 1, 2],\n",
       "       [3, 4, 5],\n",
       "       [6, 7, 8]])"
      ]
     },
     "execution_count": 14,
     "metadata": {},
     "output_type": "execute_result"
    }
   ],
   "source": [
    "matrix"
   ]
  },
  {
   "cell_type": "code",
   "execution_count": 15,
   "metadata": {},
   "outputs": [
    {
     "data": {
      "text/plain": [
       "array([3., 4., 5.])"
      ]
     },
     "execution_count": 15,
     "metadata": {},
     "output_type": "execute_result"
    }
   ],
   "source": [
    "np.mean(matrix,axis=0)"
   ]
  },
  {
   "cell_type": "code",
   "execution_count": 16,
   "metadata": {},
   "outputs": [
    {
     "data": {
      "text/plain": [
       "4.0"
      ]
     },
     "execution_count": 16,
     "metadata": {},
     "output_type": "execute_result"
    }
   ],
   "source": [
    "np.mean(matrix)"
   ]
  },
  {
   "cell_type": "code",
   "execution_count": 17,
   "metadata": {},
   "outputs": [
    {
     "data": {
      "text/plain": [
       "array([1., 4., 7.])"
      ]
     },
     "execution_count": 17,
     "metadata": {},
     "output_type": "execute_result"
    }
   ],
   "source": [
    "np.mean(matrix,axis=1)"
   ]
  },
  {
   "cell_type": "code",
   "execution_count": 20,
   "metadata": {},
   "outputs": [],
   "source": [
    "def calculate(list):\n",
    "    array=np.array(list)\n",
    "    matrix=array.reshape((3,3))\n",
    "    \n",
    "\n",
    "    try:\n",
    "        mean=[np.mean(matrix,axis=0).tolist(),np.mean(matrix,axis=1).tolist(),np.mean(array).tolist()]\n",
    "        variance=[np.var(matrix,axis=0).tolist(),np.var(matrix,axis=1).tolist(),np.var(array).tolist()]\n",
    "        standard_deviation = [(np.array(v) ** 0.5).tolist() for v in variance]\n",
    "\n",
    "        max = [np.max(matrix, axis=0).tolist(), np.max(\n",
    "            matrix, axis=1).tolist(), np.max(array).tolist()]\n",
    "        min = [np.min(matrix, axis=0).tolist(), np.min(\n",
    "            matrix, axis=1).tolist(), np.min(array).tolist()]\n",
    "        sum = [np.sum(matrix, axis=0).tolist(), np.sum(\n",
    "            matrix, axis=1).tolist(), np.sum(array).tolist()]\n",
    "        \n",
    "        calculations={\n",
    "        'mean':mean,\n",
    "        'variance':variance,\n",
    "        'standard deviation':standard_deviation,\n",
    "        'max':max,\n",
    "        'min':min,\n",
    "        'sum':sum\n",
    "    }\n",
    "    \n",
    "    except ValueError:\n",
    "        raise ValueError(\"List must contain nine numbers.\")\n",
    "\n",
    "    return calculations"
   ]
  },
  {
   "cell_type": "code",
   "execution_count": 24,
   "metadata": {},
   "outputs": [],
   "source": [
    "list = [2,6,2,8,4,0,1,5,7]"
   ]
  },
  {
   "cell_type": "code",
   "execution_count": 25,
   "metadata": {},
   "outputs": [
    {
     "data": {
      "text/plain": [
       "{'mean': [[3.6666666666666665, 5.0, 3.0],\n",
       "  [3.3333333333333335, 4.0, 4.333333333333333],\n",
       "  3.888888888888889],\n",
       " 'variance': [[9.555555555555557, 0.6666666666666666, 8.666666666666666],\n",
       "  [3.555555555555556, 10.666666666666666, 6.222222222222221],\n",
       "  6.987654320987654],\n",
       " 'standard deviation': [[3.091206165165235,\n",
       "   0.816496580927726,\n",
       "   2.943920288775949],\n",
       "  [1.8856180831641267, 3.265986323710904, 2.494438257849294],\n",
       "  2.6434171674156266],\n",
       " 'max': [[8, 6, 7], [6, 8, 7], 8],\n",
       " 'min': [[1, 4, 0], [2, 0, 1], 0],\n",
       " 'sum': [[11, 15, 9], [10, 12, 13], 35]}"
      ]
     },
     "execution_count": 25,
     "metadata": {},
     "output_type": "execute_result"
    }
   ],
   "source": [
    "calculate(list)"
   ]
  },
  {
   "cell_type": "code",
   "execution_count": null,
   "metadata": {},
   "outputs": [],
   "source": []
  }
 ],
 "metadata": {
  "kernelspec": {
   "display_name": "Python 3",
   "language": "python",
   "name": "python3"
  },
  "language_info": {
   "codemirror_mode": {
    "name": "ipython",
    "version": 3
   },
   "file_extension": ".py",
   "mimetype": "text/x-python",
   "name": "python",
   "nbconvert_exporter": "python",
   "pygments_lexer": "ipython3",
   "version": "3.11.7"
  }
 },
 "nbformat": 4,
 "nbformat_minor": 2
}
